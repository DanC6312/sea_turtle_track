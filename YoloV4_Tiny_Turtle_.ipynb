{
  "nbformat": 4,
  "nbformat_minor": 0,
  "metadata": {
    "accelerator": "GPU",
    "colab": {
      "name": "YoloV4-Tiny_Turtle_.ipynb",
      "provenance": [],
      "collapsed_sections": [],
      "toc_visible": true
    },
    "kernelspec": {
      "display_name": "Python 3",
      "name": "python3"
    }
  },
  "cells": [
    {
      "cell_type": "markdown",
      "metadata": {
        "id": "ngQsy2AT256U"
      },
      "source": [
        "# Build Freamework: Cloning and Building Darknet\n"
      ]
    },
    {
      "cell_type": "code",
      "metadata": {
        "id": "HCs4VQmESACk"
      },
      "source": [
        "# clone darknet \n",
        "!git clone https://github.com/AlexeyAB/darknet"
      ],
      "execution_count": null,
      "outputs": []
    },
    {
      "cell_type": "code",
      "metadata": {
        "id": "QOyDql4iR9MQ"
      },
      "source": [
        "# change makefile to have GPU and OPENCV enabled\r\n",
        "%cd darknet\r\n",
        "!sed -i 's/OPENCV=0/OPENCV=1/' Makefile\r\n",
        "!sed -i 's/GPU=0/GPU=1/' Makefile\r\n",
        "!sed -i 's/CUDNN=0/CUDNN=1/' Makefile\r\n",
        "!sed -i 's/CUDNN_HALF=0/CUDNN_HALF=1/' Makefile"
      ],
      "execution_count": null,
      "outputs": []
    },
    {
      "cell_type": "code",
      "metadata": {
        "id": "A4PimdvDSAwX"
      },
      "source": [
        "# verify CUDA\r\n",
        "!/usr/local/cuda/bin/nvcc --version"
      ],
      "execution_count": null,
      "outputs": []
    },
    {
      "cell_type": "code",
      "metadata": {
        "id": "JLnqPB9iSElt"
      },
      "source": [
        "# make darknet \r\n",
        "!make"
      ],
      "execution_count": null,
      "outputs": []
    },
    {
      "cell_type": "markdown",
      "metadata": {
        "id": "tRMGzNEJJ63X"
      },
      "source": [
        "Using the below helper function to view images"
      ]
    },
    {
      "cell_type": "code",
      "metadata": {
        "id": "w4Pm0VoqmGia"
      },
      "source": [
        "# define helper functions\n",
        "def imShow(path):\n",
        "  import cv2\n",
        "  import matplotlib.pyplot as plt\n",
        "  %matplotlib inline\n",
        "\n",
        "  image = cv2.imread(path)\n",
        "  height, width = image.shape[:2]\n",
        "  resized_image = cv2.resize(image,(3*width, 3*height), interpolation = cv2.INTER_CUBIC)\n",
        "\n",
        "  fig = plt.gcf()\n",
        "  fig.set_size_inches(18, 10)\n",
        "  plt.axis(\"off\")\n",
        "  plt.imshow(cv2.cvtColor(image, cv2.COLOR_BGR2RGB))\n",
        "  plt.show()\n",
        "\n",
        "# use this to upload files\n",
        "def upload():\n",
        "  from google.colab import files\n",
        "  uploaded = files.upload() \n",
        "  for name, data in uploaded.items():\n",
        "    with open(name, 'wb') as f:\n",
        "      f.write(data)\n",
        "      print ('saved file', name)\n",
        "\n",
        "# use this to download a file  \n",
        "def download(path):\n",
        "  from google.colab import files\n",
        "  files.download(path)"
      ],
      "execution_count": null,
      "outputs": []
    },
    {
      "cell_type": "markdown",
      "metadata": {
        "id": "8ppsTIG0CtX3"
      },
      "source": [
        "# Move files: Uploading Google Drive Files\n"
      ]
    },
    {
      "cell_type": "code",
      "metadata": {
        "id": "j9lmJEnGEu-7"
      },
      "source": [
        "%cd ..\n",
        "from google.colab import drive\n",
        "drive.mount('/content/gdrive')"
      ],
      "execution_count": null,
      "outputs": []
    },
    {
      "cell_type": "code",
      "metadata": {
        "id": "yreDPcJdoo29"
      },
      "source": [
        "# this creates a symbolic link so that now the path /content/gdrive/My\\ Drive/ is equal to /mydrive\n",
        "!ln -s /content/gdrive/My\\ Drive/ /mydrive\n",
        "!ls /mydrive"
      ],
      "execution_count": null,
      "outputs": []
    },
    {
      "cell_type": "code",
      "metadata": {
        "id": "JafIRIU0Z6UQ"
      },
      "source": [
        "# cd back into the darknet folder to run detections\n",
        "%cd ..\n",
        "%cd content/darknet"
      ],
      "execution_count": null,
      "outputs": []
    },
    {
      "cell_type": "markdown",
      "metadata": {
        "id": "i5Lv7beNwopq"
      },
      "source": [
        "# TRAINING:"
      ]
    },
    {
      "cell_type": "markdown",
      "metadata": {
        "id": "h4F90N1lhXR2"
      },
      "source": [
        "\n",
        "\n",
        "In order to create a custom YOLOv4-TINY detector we will need the following:\n",
        "\n",
        "*   Labeled Dataset\n",
        "*   .cfg file\n",
        "*   obj.data and obj.names files\n",
        "*   train.txt file, test.txt\n"
      ]
    },
    {
      "cell_type": "markdown",
      "metadata": {
        "id": "DWaLc6AZozBl"
      },
      "source": [
        "# Step 1: Gathering and Labeling a Custom Dataset\n",
        "In order to create an object detector you need a labeled dataset, this may be the most important area to focus on in order to obtain high accuracy models \n",
        "\n"
      ]
    },
    {
      "cell_type": "markdown",
      "metadata": {
        "id": "Dye1-pgt4WS0"
      },
      "source": [
        "# Step 2: Moving Your Custom Dataset Into Your Cloud VM\n",
        "I recommend renaming the folder with your images and text files on your local machine to be called '**obj**' and then creating a .zip folder of the 'obj' folder. "
      ]
    },
    {
      "cell_type": "code",
      "metadata": {
        "id": "0_JRC13hK7Zr"
      },
      "source": [
        "# See if obj.zip & test.zip is in the folder\n",
        "!ls /mydrive/sea_turtle"
      ],
      "execution_count": null,
      "outputs": []
    },
    {
      "cell_type": "code",
      "metadata": {
        "id": "YpljhMVHOx9X"
      },
      "source": [
        "# copy the .zip files into the root directory of cloud VM\n",
        "!cp /mydrive/sea_turtle/obj.zip ../\n",
        "!cp /mydrive/sea_turtle/test.zip ../"
      ],
      "execution_count": null,
      "outputs": []
    },
    {
      "cell_type": "code",
      "metadata": {
        "id": "45en565PPLce"
      },
      "source": [
        "# unzip the zip files and its contents should now be in /darknet/data/obj & data/test\n",
        "!unzip ../obj.zip -d data/\n",
        "!unzip ../test.zip -d data/"
      ],
      "execution_count": null,
      "outputs": []
    },
    {
      "cell_type": "markdown",
      "metadata": {
        "id": "bVst_Nyhkq0B"
      },
      "source": [
        "# Step 3: Configuring Files for Training\n",
        "This step involves properly configuring your custom .cfg file, obj.data, obj.names and train.txt file.\n"
      ]
    },
    {
      "cell_type": "code",
      "metadata": {
        "id": "LX35v8qIfAXx"
      },
      "source": [
        "# download yoloV4 cfg to google drive and change its name\r\n",
        "!cp cfg/yolov4-tiny.cfg /mydrive/sea_turtle/yolov4-tiny.cfg"
      ],
      "execution_count": null,
      "outputs": []
    },
    {
      "cell_type": "markdown",
      "metadata": {
        "id": "9n3Y9Uozgua9"
      },
      "source": [
        "```\r\n",
        "set batch=24, this means we will be using 24 images for every training step\r\n",
        "set subdivisions=8, the batch will be divided by 8 to decrease GPU VRAM requirement\r\n",
        "width= 416 (multiples of 32)\r\n",
        "height= 416 (increasing,decreases speed)\r\n",
        "maxbatches= # classes * 3000 (How long to train for)\r\n",
        "steps=(80% of maxbatch & 90% of maxbatch)\r\n",
        "filters=(# of classes + 5) * 3\r\n",
        "for memory issues set random = 0 \r\n",
        "```"
      ]
    },
    {
      "cell_type": "code",
      "metadata": {
        "id": "cLfh7LmoTd4O"
      },
      "source": [
        "# upload the yolov4-tiny .cfg back to cloud VM from Google Drive\r\n",
        "!cp /mydrive/sea_turtle/yolov4-tiny.cfg ./cfg"
      ],
      "execution_count": null,
      "outputs": []
    },
    {
      "cell_type": "markdown",
      "metadata": {
        "id": "c_6pLfgvToDK"
      },
      "source": [
        "Uploading obj.names & obj.data into darknet data folder"
      ]
    },
    {
      "cell_type": "code",
      "metadata": {
        "id": "qBmbHd7M16lK"
      },
      "source": [
        "# upload the obj.names and obj.data files to cloud VM from Google Drive\n",
        "!cp /mydrive/sea_turtle/obj.names ./data\n",
        "!cp /mydrive/sea_turtle/obj.data  ./data"
      ],
      "execution_count": null,
      "outputs": []
    },
    {
      "cell_type": "markdown",
      "metadata": {
        "id": "Qtq9K_-1T3It"
      },
      "source": [
        "Uploading scripts to create a txt file of the train.zip & test.zip"
      ]
    },
    {
      "cell_type": "code",
      "metadata": {
        "id": "cKBeIp7V44nu"
      },
      "source": [
        "# upload the generate_train.py script to cloud VM from Google Drive\n",
        "!cp /mydrive/sea_turtle/generate_train.py ./\n",
        "!cp /mydrive/sea_turtle/generate_test.py ./"
      ],
      "execution_count": null,
      "outputs": []
    },
    {
      "cell_type": "markdown",
      "metadata": {
        "id": "k9Ikig-H5wpw"
      },
      "source": [
        "Now run the python script "
      ]
    },
    {
      "cell_type": "code",
      "metadata": {
        "id": "o4HBBgk3503F"
      },
      "source": [
        "!python generate_train.py\n",
        "!python generate_test.py"
      ],
      "execution_count": null,
      "outputs": []
    },
    {
      "cell_type": "code",
      "metadata": {
        "id": "CIFjMSlX6DfP"
      },
      "source": [
        "# verify train.txt and text.txt can be seen in our darknet/data folder\n",
        "!ls data/"
      ],
      "execution_count": null,
      "outputs": []
    },
    {
      "cell_type": "markdown",
      "metadata": {
        "id": "DKDmFrUH7JHy"
      },
      "source": [
        "# Step 4: Download pre-trained weights for the convolutional layers.\n",
        "Using pretrained weights allows a more accurate detection with less training time"
      ]
    },
    {
      "cell_type": "code",
      "metadata": {
        "id": "k5SYWDPv7qG-"
      },
      "source": [
        "# upload pretrained convolutional layer weights\n",
        "!wget https://github.com/AlexeyAB/darknet/releases/download/darknet_yolo_v4_pre/yolov4-tiny.weights"
      ],
      "execution_count": null,
      "outputs": []
    },
    {
      "cell_type": "markdown",
      "metadata": {
        "id": "FaQeCZ0sUoJ7"
      },
      "source": [
        "#Hint:"
      ]
    },
    {
      "cell_type": "markdown",
      "metadata": {
        "id": "VHw00Cro8ONr"
      },
      "source": [
        "To avoid colab logging you out hit (CTRL + SHIFT + i) to open consol \n",
        "\n",
        "Paste the following code into your console window and hit enter\n",
        "```\n",
        "function ClickConnect(){\n",
        "console.log(\"Working\"); \n",
        "document.querySelector(\"colab-toolbar-button#connect\").click() \n",
        "}\n",
        "setInterval(ClickConnect,60000)\n",
        "```"
      ]
    },
    {
      "cell_type": "markdown",
      "metadata": {
        "id": "r047MQB-7Irb"
      },
      "source": [
        "# Step 5: Train the model\r\n",
        "\r\n",
        "\r\n"
      ]
    },
    {
      "cell_type": "code",
      "metadata": {
        "id": "XkRPr5qPZKfz"
      },
      "source": [
        "# cd back into the darknet folder to run detections\r\n",
        "%cd ..\r\n",
        "%cd /content/darknet"
      ],
      "execution_count": null,
      "outputs": []
    },
    {
      "cell_type": "code",
      "metadata": {
        "id": "8YtF9yq3h9nB"
      },
      "source": [
        "# train your yolov4-tiny detector\r\n",
        "#%%capture\r\n",
        "!./darknet detector train data/obj.data cfg/yolov4-tiny.cfg yolov4-tiny.weights -dont_show "
      ],
      "execution_count": null,
      "outputs": []
    },
    {
      "cell_type": "markdown",
      "metadata": {
        "id": "xCYF19wDArJz"
      },
      "source": [
        "Start training again from previous weights\n"
      ]
    },
    {
      "cell_type": "code",
      "metadata": {
        "id": "yE_Q7BXxXxMl"
      },
      "source": [
        "!./darknet detector train data/obj.data cfg/yolov4-tiny.cfg /mydrive/sea_turtle/backup/backup/yolov4-tiny_2000.weights -dont_show"
      ],
      "execution_count": null,
      "outputs": []
    },
    {
      "cell_type": "markdown",
      "metadata": {
        "id": "HUEicw_d0hZW"
      },
      "source": [
        "# Step 6: Checking the Mean Average Precision (mAP) of Your Model"
      ]
    },
    {
      "cell_type": "code",
      "metadata": {
        "id": "7S0Ow7nN0jkP"
      },
      "source": [
        "!./darknet detector map data/obj.data cfg/yolov4-tiny.cfg /mydrive/sea_turtle/backup/backup/yolov4-tiny_3000.weights"
      ],
      "execution_count": null,
      "outputs": []
    },
    {
      "cell_type": "markdown",
      "metadata": {
        "id": "N29uHgipYsY2"
      },
      "source": [
        "# Step 7: Run Your Custom Object Detector!!!\n",
        "You have done it! You now have a custom object detector to make your very own detections. Time to test it out and have some fun!"
      ]
    },
    {
      "cell_type": "code",
      "metadata": {
        "id": "CzWTss9BZaDx"
      },
      "source": [
        "# need to set our custom cfg to test mode \n",
        "%cd /content/darknet/cfg\n",
        "!sed -i 's/batch=64/batch=1/' yolov4-tiny.cfg\n",
        "!sed -i 's/subdivisions=16/subdivisions=1/' yolov4-tiny.cfg\n"
      ],
      "execution_count": null,
      "outputs": []
    },
    {
      "cell_type": "code",
      "metadata": {
        "id": "AsrmB_9qaVjq"
      },
      "source": [
        "%cd ..\r\n",
        "%cd /content/darknet"
      ],
      "execution_count": null,
      "outputs": []
    },
    {
      "cell_type": "code",
      "metadata": {
        "id": "tz_tDRuO43IR"
      },
      "source": [
        "# run your detector on google drive video\r\n",
        "!./darknet detector demo cfg/coco.data cfg/yolov4.cfg yolov4.weights -dont_show /mydrive/sea_turtle/video/DJI_0119.mov -i 0 -out_filename /mydrive/sea_turtle/results.JPG"
      ],
      "execution_count": null,
      "outputs": []
    },
    {
      "cell_type": "code",
      "metadata": {
        "id": "JWQlu6bTwXNO"
      },
      "source": [
        "# run your custom detector on google drive image \n",
        "!./darknet detector test data/obj.data cfg/yolov4-tiny.cfg /mydrive/sea_turtle/backup/backup/yolov4-tiny_1000.weights /mydrive/sea_turtle/test/Hawksbill_Track_141.JPG -Threshold \n",
        "imShow('predictions.jpg')"
      ],
      "execution_count": null,
      "outputs": []
    },
    {
      "cell_type": "markdown",
      "metadata": {
        "id": "OaQ3uCJGJ5RY"
      },
      "source": [
        "# Cheers!"
      ]
    }
  ]
}